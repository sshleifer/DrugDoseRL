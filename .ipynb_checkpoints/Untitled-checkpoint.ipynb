{
 "cells": [
  {
   "cell_type": "code",
   "execution_count": 2,
   "metadata": {
    "ExecuteTime": {
     "end_time": "2019-03-19T08:20:10.179738Z",
     "start_time": "2019-03-19T08:20:08.166842Z"
    },
    "code_folding": [
     0
    ]
   },
   "outputs": [
    {
     "data": {
      "text/html": [
       "<style>.container { width:90% !important; }</style>"
      ],
      "text/plain": [
       "<IPython.core.display.HTML object>"
      ]
     },
     "metadata": {},
     "output_type": "display_data"
    }
   ],
   "source": [
    "# %load /Users/shleifer/durbango/imports.py\n",
    "#IMPORTS\n",
    "\n",
    "%load_ext autoreload\n",
    "%autoreload 2\n",
    "%matplotlib inline\n",
    "ISO = \"ISO-8859-1\"\n",
    "\n",
    "import os\n",
    "import pickle\n",
    "from tqdm import tqdm, tqdm_notebook, tnrange\n",
    "import numpy as np\n",
    "import pandas as pd\n",
    "import gc\n",
    "import IPython\n",
    "import sys\n",
    "try:\n",
    "    import eli5\n",
    "    from lightgbm.sklearn import LGBMClassifier, LGBMRegressor\n",
    "    import seaborn as sns\n",
    "except ImportError:\n",
    "    pass\n",
    "from sklearn.metrics import *\n",
    "import itertools\n",
    "from collections import *\n",
    "from tqdm import tqdm, tqdm_notebook\n",
    "import funcy\n",
    "import matplotlib.pyplot as plt\n",
    "from time import time\n",
    "from sklearn.linear_model import *\n",
    "from functools import partial\n",
    "from sklearn.feature_extraction.text import CountVectorizer, HashingVectorizer, TfidfTransformer, TfidfVectorizer\n",
    "from sklearn.model_selection import StratifiedKFold, KFold\n",
    "from sklearn.utils import shuffle\n",
    "from numpy.testing import assert_array_equal\n",
    "from pandas.testing import assert_frame_equal, assert_series_equal, assert_index_equal\n",
    "from sklearn.preprocessing import StandardScaler, RobustScaler\n",
    "\n",
    "#from pandas_summary import DataFrameSummary\n",
    "from IPython.lib.display import FileLink\n",
    "from pathlib import Path\n",
    "import re\n",
    "mock_arr = np.array(range(25)).reshape(5,5)\n",
    "mock_df = pd.DataFrame(np.ones((5,5)), columns=['a', 'b', 'c', 'd', 'e'])\n",
    "mock_df['color'] = ['red', 'blue', 'red', 'blue', 'green']\n",
    "mock_df['bool_col'] = [True, False, True, False, True]\n",
    "from pathlib import Path\n",
    "\n",
    "from glob import glob\n",
    "\n",
    "np.set_printoptions(precision=5, linewidth=110, suppress=True)\n",
    "\n",
    "from ipykernel.kernelapp import IPKernelApp\n",
    "def in_notebook(): return IPKernelApp.initialized()\n",
    "\n",
    "from IPython.display import Markdown, display\n",
    "def printmd(string):\n",
    "    display(Markdown(string))\n",
    "\n",
    "from IPython.core.interactiveshell import InteractiveShell\n",
    "\n",
    "# pretty print only the last output of the cell\n",
    "InteractiveShell.ast_node_interactivity = \"last_expr\" # \"all\" for all\n",
    "\n",
    "import pickle\n",
    "def pickle_save(obj, path):\n",
    "    with open(path, 'wb') as f:\n",
    "        pickle.dump(obj, f)\n",
    "\n",
    "def pickle_load(path):\n",
    "    with open(path, 'rb') as f:\n",
    "        return pickle.load(f)\n",
    "save_pickle = pickle_save\n",
    "load_pickle = pickle_load\n",
    "\n",
    "def run_query(query): return pd.read_sql(query, engine)\n",
    "\n",
    "from IPython.core.display import display, HTML\n",
    "display(HTML(\"<style>.container { width:90% !important; }</style>\"))\n",
    "\n",
    "%config InlineBackend.figure_format = 'retina'\n",
    "\n",
    "from sklearn.linear_model import *\n",
    "DURBANGO_DIR = '/Users/shleifer/durbango/'\n",
    "if not os.path.exists(DURBANGO_DIR):\n",
    "    DURBANGO_DIR = '/home/paperspace/durbango/'\n",
    "if os.path.exists(DURBANGO_DIR):\n",
    "    sys.path.append(DURBANGO_DIR)\n",
    "    try:\n",
    "        from durbango.nb_utils import *\n",
    "    except ImportError as e:\n",
    "        print(f'Cant import durbango-- {e}')\n",
    "\n",
    "import logging\n",
    "\n",
    "\n",
    "#logger = logging.getLogger()\n",
    "\n",
    "if False: # IDK if I like this\n",
    "\n",
    "    assert len(logger.handlers) == 1\n",
    "    handler = logger.handlers[0]\n",
    "\n",
    "    handler.setLevel(logging.INFO)\n",
    "    logger.info('logging is set to INFO')\n",
    "\n",
    "    ID_COLS = ['left_id', 'right_id']\n",
    "\n",
    "Arr = np.array\n",
    "\n",
    "\n"
   ]
  },
  {
   "cell_type": "code",
   "execution_count": 11,
   "metadata": {
    "ExecuteTime": {
     "end_time": "2019-03-19T08:23:40.682505Z",
     "start_time": "2019-03-19T08:23:40.641971Z"
    }
   },
   "outputs": [
    {
     "name": "stdout",
     "output_type": "stream",
     "text": [
      "/Users/shleifer/DrugDoseRL/results\n"
     ]
    }
   ],
   "source": [
    "%cd results"
   ]
  },
  {
   "cell_type": "code",
   "execution_count": 13,
   "metadata": {
    "ExecuteTime": {
     "end_time": "2019-03-19T08:24:11.933254Z",
     "start_time": "2019-03-19T08:24:11.899240Z"
    }
   },
   "outputs": [],
   "source": [
    "paths = glob('*/results_*.txt')"
   ]
  },
  {
   "cell_type": "code",
   "execution_count": 15,
   "metadata": {
    "ExecuteTime": {
     "end_time": "2019-03-19T08:27:30.346868Z",
     "start_time": "2019-03-19T08:27:30.311739Z"
    }
   },
   "outputs": [],
   "source": [
    "Regret = 'Regret'\n",
    "Accuracy= 'Accuracy'\n",
    "\n",
    "def parse_line(line):\n",
    "    \n",
    "    return eval('{' + line + '}')"
   ]
  },
  {
   "cell_type": "code",
   "execution_count": 21,
   "metadata": {
    "ExecuteTime": {
     "end_time": "2019-03-19T08:29:21.546118Z",
     "start_time": "2019-03-19T08:29:21.511630Z"
    }
   },
   "outputs": [],
   "source": [
    "ln = p.open().read().split('\\n')[0]"
   ]
  },
  {
   "cell_type": "code",
   "execution_count": 34,
   "metadata": {
    "ExecuteTime": {
     "end_time": "2019-03-19T08:34:46.948390Z",
     "start_time": "2019-03-19T08:34:46.920217Z"
    }
   },
   "outputs": [],
   "source": [
    "def read_log(p):\n",
    "    df = pd.read_csv(p, header=None).apply(lambda x: x.str.partition(':')[2]).astype(float)\n",
    "    df.columns = ['Regret', 'Accuracy', 'Fuzzy Accuracy']\n",
    "    return df"
   ]
  },
  {
   "cell_type": "code",
   "execution_count": 28,
   "metadata": {
    "ExecuteTime": {
     "end_time": "2019-03-19T08:31:02.733497Z",
     "start_time": "2019-03-19T08:31:02.698501Z"
    }
   },
   "outputs": [],
   "source": [
    "def parse_line(ln):\n",
    "    res = {}\n",
    "    for x in ln.split(','):\n",
    "        k,v =  x.split(':')\n",
    "        res[k.strip()] = float(v.strip())\n",
    "    return res"
   ]
  },
  {
   "cell_type": "code",
   "execution_count": 38,
   "metadata": {
    "ExecuteTime": {
     "end_time": "2019-03-19T08:35:14.994352Z",
     "start_time": "2019-03-19T08:35:14.963007Z"
    }
   },
   "outputs": [],
   "source": []
  },
  {
   "cell_type": "code",
   "execution_count": 46,
   "metadata": {
    "ExecuteTime": {
     "end_time": "2019-03-19T08:38:52.509223Z",
     "start_time": "2019-03-19T08:38:52.282128Z"
    }
   },
   "outputs": [
    {
     "name": "stdout",
     "output_type": "stream",
     "text": [
      "linucb/results_linucb_proportional.txt\n",
      "linucb/results_linucb_hill-climbing.txt\n",
      "linucb/results_linucb_risk-sensitive.txt\n",
      "linucb/results_linucb_standard.txt\n",
      "linucb/results_linucb_fuzzy.txt\n",
      "linucb/results_linucb_prob-based.txt\n",
      "hybrid_linucb/results_hybrid_linucb_proportional.txt\n",
      "hybrid_linucb/results_hybrid_linucb_prob-based.txt\n",
      "hybrid_linucb/results_hybrid_linucb_hill-climbing.txt\n",
      "hybrid_linucb/results_hybrid_linucb_standard.txt\n",
      "hybrid_linucb/results_hybrid_linucb_fuzzy.txt\n",
      "hybrid_linucb/results_hybrid_linucb_risk-sensitive.txt\n",
      "lasso/results_lasso_fuzzy.txt\n",
      "lasso/results_lasso_proportional.txt\n",
      "lasso/results_lasso_hill-climbing.txt\n",
      "lasso/results_lasso_standard.txt\n",
      "lasso/results_lasso_prob-based.txt\n",
      "lasso/results_lasso_risk-sensitive.txt\n",
      "greedy_first/results_greedy_first_proportional.txt\n",
      "greedy_first/results_greedy_first_fuzzy.txt\n",
      "greedy_first/results_greedy_first_prob-based.txt\n",
      "greedy_first/results_greedy_first_standard.txt\n",
      "greedy_first/results_greedy_first_hill-climbing.txt\n",
      "greedy_first/results_greedy_first_risk-sensitive.txt\n"
     ]
    }
   ],
   "source": [
    "dfs = []\n",
    "for p in paths:\n",
    "    p = Path(p)\n",
    "    info = p.name[:-4].split('_')[1:]\n",
    "    reward_name = info[-1]\n",
    "    model = '_'.join(info[:-1])\n",
    "    df = read_log(p)\n",
    "    df['model'] = model\n",
    "    df['Reward Structure']= reward_name\n",
    "    dfs.append(df)\n",
    "all_dfs = pd.concat(dfs)"
   ]
  },
  {
   "cell_type": "code",
   "execution_count": 40,
   "metadata": {
    "ExecuteTime": {
     "end_time": "2019-03-19T08:37:26.316206Z",
     "start_time": "2019-03-19T08:36:13.474762Z"
    }
   },
   "outputs": [
    {
     "name": "stdout",
     "output_type": "stream",
     "text": [
      "> \u001b[0;32m<ipython-input-39-488ab6576f9a>\u001b[0m(4)\u001b[0;36m<module>\u001b[0;34m()\u001b[0m\n",
      "\u001b[0;32m      2 \u001b[0;31m\u001b[0;32mfor\u001b[0m \u001b[0mp\u001b[0m \u001b[0;32min\u001b[0m \u001b[0mpaths\u001b[0m\u001b[0;34m:\u001b[0m\u001b[0;34m\u001b[0m\u001b[0;34m\u001b[0m\u001b[0m\n",
      "\u001b[0m\u001b[0;32m      3 \u001b[0;31m    \u001b[0mp\u001b[0m \u001b[0;34m=\u001b[0m \u001b[0mPath\u001b[0m\u001b[0;34m(\u001b[0m\u001b[0mp\u001b[0m\u001b[0;34m)\u001b[0m\u001b[0;34m\u001b[0m\u001b[0;34m\u001b[0m\u001b[0m\n",
      "\u001b[0m\u001b[0;32m----> 4 \u001b[0;31m    \u001b[0mmodel\u001b[0m\u001b[0;34m,\u001b[0m \u001b[0mreward_name\u001b[0m \u001b[0;34m=\u001b[0m \u001b[0mp\u001b[0m\u001b[0;34m.\u001b[0m\u001b[0mname\u001b[0m\u001b[0;34m[\u001b[0m\u001b[0;34m:\u001b[0m\u001b[0;34m-\u001b[0m\u001b[0;36m4\u001b[0m\u001b[0;34m]\u001b[0m\u001b[0;34m.\u001b[0m\u001b[0msplit\u001b[0m\u001b[0;34m(\u001b[0m\u001b[0;34m'_'\u001b[0m\u001b[0;34m)\u001b[0m\u001b[0;34m[\u001b[0m\u001b[0;36m1\u001b[0m\u001b[0;34m:\u001b[0m\u001b[0;34m]\u001b[0m\u001b[0;34m\u001b[0m\u001b[0;34m\u001b[0m\u001b[0m\n",
      "\u001b[0m\u001b[0;32m      5 \u001b[0;31m    \u001b[0mdf\u001b[0m \u001b[0;34m=\u001b[0m \u001b[0mread_log\u001b[0m\u001b[0;34m(\u001b[0m\u001b[0mp\u001b[0m\u001b[0;34m)\u001b[0m\u001b[0;34m\u001b[0m\u001b[0;34m\u001b[0m\u001b[0m\n",
      "\u001b[0m\u001b[0;32m      6 \u001b[0;31m    \u001b[0mdf\u001b[0m\u001b[0;34m[\u001b[0m\u001b[0;34m'model'\u001b[0m\u001b[0;34m]\u001b[0m \u001b[0;34m=\u001b[0m \u001b[0mmodel\u001b[0m\u001b[0;34m\u001b[0m\u001b[0;34m\u001b[0m\u001b[0m\n",
      "\u001b[0m\n",
      "ipdb> p\n",
      "*** SyntaxError: unexpected EOF while parsing\n",
      "ipdb> print(p)\n",
      "hybrid_linucb/results_hybrid_linucb_proportional.txt\n",
      "ipdb> p.name[:-4].split('_')\n",
      "*** SyntaxError: invalid syntax\n",
      "ipdb> print(p.name[:-4].split('_'))\n",
      "['results', 'hybrid', 'linucb', 'proportional']\n",
      "ipdb> exit\n"
     ]
    }
   ],
   "source": []
  },
  {
   "cell_type": "code",
   "execution_count": 18,
   "metadata": {
    "ExecuteTime": {
     "end_time": "2019-03-19T08:28:06.717820Z",
     "start_time": "2019-03-19T08:28:06.679755Z"
    }
   },
   "outputs": [
    {
     "ename": "SyntaxError",
     "evalue": "invalid syntax (<ipython-input-18-20d6374abc95>, line 1)",
     "output_type": "error",
     "traceback": [
      "\u001b[0;36m  File \u001b[0;32m\"<ipython-input-18-20d6374abc95>\"\u001b[0;36m, line \u001b[0;32m1\u001b[0m\n\u001b[0;31m    {Regret: 8597.631428571436, Accuracy: 0.5439970850792494, Fuzzy Accuracy: 0.782838404080889}\u001b[0m\n\u001b[0m                                                                           ^\u001b[0m\n\u001b[0;31mSyntaxError\u001b[0m\u001b[0;31m:\u001b[0m invalid syntax\n"
     ]
    }
   ],
   "source": [
    "  {Regret: 8597.631428571436, Accuracy: 0.5439970850792494, Fuzzy Accuracy: 0.782838404080889}"
   ]
  },
  {
   "cell_type": "code",
   "execution_count": null,
   "metadata": {},
   "outputs": [],
   "source": []
  }
 ],
 "metadata": {
  "kernelspec": {
   "display_name": "Python 3",
   "language": "python",
   "name": "python3"
  },
  "language_info": {
   "codemirror_mode": {
    "name": "ipython",
    "version": 3
   },
   "file_extension": ".py",
   "mimetype": "text/x-python",
   "name": "python",
   "nbconvert_exporter": "python",
   "pygments_lexer": "ipython3",
   "version": "3.7.1"
  }
 },
 "nbformat": 4,
 "nbformat_minor": 2
}
